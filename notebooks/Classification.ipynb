{
 "cells": [
  {
   "cell_type": "code",
   "execution_count": 14,
   "metadata": {
    "collapsed": true
   },
   "outputs": [],
   "source": [
    "%matplotlib inline\n",
    "import pandas as pd\n",
    "import numpy as np\n",
    "import matplotlib.pyplot as plt"
   ]
  },
  {
   "cell_type": "code",
   "execution_count": 111,
   "metadata": {
    "collapsed": true
   },
   "outputs": [],
   "source": [
    "pd.read_csv?"
   ]
  },
  {
   "cell_type": "code",
   "execution_count": 86,
   "metadata": {
    "collapsed": false
   },
   "outputs": [
    {
     "data": {
      "text/plain": [
       "Index(['i_id_s', 'i_labels_b', 'i_annotators_n', 'y_Ao_n', 'y_Class_s',\n",
       "       'a_headfreq_n', 'a_targetfreq_n', 'b_headpos_s', 'b_posbigram_left_s',\n",
       "       'b_posbigram_right_s', 'b_stemcoverage_n', 'b_targetpos_s',\n",
       "       'c_content_proportion_n', 'c_context_b', 'c_maxidf_n', 'c_slength_n',\n",
       "       'c_totalidf_n', 'd_distancetoroot_n', 'd_headdeprels_b',\n",
       "       'd_headsdeps_n', 'd_linear_head_distance_n', 'd_targetdeps_n',\n",
       "       'd_targetdepsrels_b', 'z_nlabels_n', 'z_sensentropy_n', 'y_is_high'],\n",
       "      dtype='object')"
      ]
     },
     "execution_count": 86,
     "metadata": {},
     "output_type": "execute_result"
    }
   ],
   "source": [
    "D = pd.read_csv(\"../data/feats/en_masc_crowdsourced.feats\", sep=\"\\t\")\n",
    "\n",
    "D['y_is_high'] = D.y_Ao_n == 1\n"
   ]
  },
  {
   "cell_type": "code",
   "execution_count": 91,
   "metadata": {
    "collapsed": false
   },
   "outputs": [
    {
     "data": {
      "text/plain": [
       "<matplotlib.axes._subplots.AxesSubplot at 0x115c70dd8>"
      ]
     },
     "execution_count": 91,
     "metadata": {},
     "output_type": "execute_result"
    },
    {
     "data": {
      "image/png": "[encoded data removed]",
      "text/plain": [
       "<matplotlib.figure.Figure at 0x115c82c50>"
      ]
     },
     "metadata": {},
     "output_type": "display_data"
    }
   ],
   "source": [
    "D.y_Ao_n.plot(kind='kde')"
   ]
  },
  {
   "cell_type": "code",
   "execution_count": 128,
   "metadata": {
    "collapsed": false
   },
   "outputs": [
    {
     "data": {
      "text/plain": [
       "<generator object iterrows at 0x1079a0318>"
      ]
     },
     "execution_count": 128,
     "metadata": {},
     "output_type": "execute_result"
    }
   ],
   "source": []
  },
  {
   "cell_type": "code",
   "execution_count": 120,
   "metadata": {
    "collapsed": false
   },
   "outputs": [],
   "source": [
    "\n",
    "\n",
    "#D.y_Class_s = np.array(list(map(str, D.y_Class_s)))\n",
    "#D['y_is_high'] = [e == \"HIGH\" for e in D.y_Class_s ]\n",
    "numeric_cols = [name for name in D.columns \n",
    "                if name.endswith(\"_n\")\n",
    "                if not name.startswith(\"i_\")\n",
    "                if name != 'b_stemcoverage_n'\n",
    "               ]\n",
    "\n",
    "bag_cols = [name for name in D.columns \n",
    "            if name.endswith(\"_b\")\n",
    "            if not name.startswith(\"i_\")\n",
    "            ]\n",
    "\n",
    "# Explode bag columns\n",
    "#for col in bag_cols:\n",
    "    \n"
   ]
  },
  {
   "cell_type": "code",
   "execution_count": 116,
   "metadata": {
    "collapsed": false
   },
   "outputs": [
    {
     "data": {
      "text/plain": [
       "dobj           -0.025760\n",
       "mark           -0.022701\n",
       "punct          -0.015086\n",
       "nmod:poss      -0.013625\n",
       "det            -0.012569\n",
       "xcomp          -0.011636\n",
       "cop            -0.010721\n",
       "conj           -0.009152\n",
       "cc             -0.008569\n",
       "acl:relcl      -0.008207\n",
       "advmod         -0.007421\n",
       "nsubj          -0.007290\n",
       "nmod           -0.006777\n",
       "appos          -0.005646\n",
       "aux            -0.005048\n",
       "expl           -0.004897\n",
       "acl            -0.004770\n",
       "compound:prt   -0.004578\n",
       "csubjpass      -0.004194\n",
       "dislocated     -0.004189\n",
       "neg            -0.003237\n",
       "compound       -0.003235\n",
       "vocative       -0.003070\n",
       "case           -0.002335\n",
       "conj:preconj   -0.002252\n",
       "dep            -0.001902\n",
       "nmod:npmod     -0.001531\n",
       "list           -0.000862\n",
       "remnant         0.000742\n",
       "det:predet      0.001048\n",
       "amod            0.001335\n",
       "advcl           0.001627\n",
       "foreign         0.002217\n",
       "parataxis       0.003534\n",
       "goeswith        0.004156\n",
       "name            0.004510\n",
       "mwe             0.004587\n",
       "csubj           0.005209\n",
       "ccomp           0.006989\n",
       "nummod          0.007620\n",
       "reparandum      0.007756\n",
       "nmod:tmod       0.008059\n",
       "nsubjpass       0.008506\n",
       "root            0.009588\n",
       "auxpass         0.010962\n",
       "discourse       0.016125\n",
       "none            0.024187\n",
       "iobj            0.024350\n",
       "dtype: float64"
      ]
     },
     "execution_count": 116,
     "metadata": {},
     "output_type": "execute_result"
    }
   ],
   "source": [
    "s = D.d_headdeprels_b.str.split(\" \").apply(lambda x: {k: 1 for k in x})\n",
    "bags = pd.DataFrame(list(s.values), index=D.index).fillna(0)\n",
    "bags.corrwith(D.y_Ao_n).order()"
   ]
  },
  {
   "cell_type": "code",
   "execution_count": 97,
   "metadata": {
    "collapsed": false
   },
   "outputs": [
    {
     "data": {
      "text/html": [
       "<div style=\"max-height:1000px;max-width:1500px;overflow:auto;\">\n",
       "<table border=\"1\" class=\"dataframe\">\n",
       "  <thead>\n",
       "    <tr style=\"text-align: right;\">\n",
       "      <th>y_Class_s</th>\n",
       "      <th>HIGH</th>\n",
       "      <th>LOW</th>\n",
       "      <th>MID</th>\n",
       "    </tr>\n",
       "  </thead>\n",
       "  <tbody>\n",
       "    <tr>\n",
       "      <th>y_Ao_n</th>\n",
       "      <td>0.841469</td>\n",
       "      <td>0.253745</td>\n",
       "      <td>0.477703</td>\n",
       "    </tr>\n",
       "    <tr>\n",
       "      <th>a_headfreq_n</th>\n",
       "      <td>0.113074</td>\n",
       "      <td>0.118401</td>\n",
       "      <td>0.112615</td>\n",
       "    </tr>\n",
       "    <tr>\n",
       "      <th>a_targetfreq_n</th>\n",
       "      <td>0.157447</td>\n",
       "      <td>0.165459</td>\n",
       "      <td>0.161176</td>\n",
       "    </tr>\n",
       "    <tr>\n",
       "      <th>c_content_proportion_n</th>\n",
       "      <td>0.464465</td>\n",
       "      <td>0.468516</td>\n",
       "      <td>0.463182</td>\n",
       "    </tr>\n",
       "    <tr>\n",
       "      <th>c_maxidf_n</th>\n",
       "      <td>11.858033</td>\n",
       "      <td>11.678163</td>\n",
       "      <td>11.764648</td>\n",
       "    </tr>\n",
       "    <tr>\n",
       "      <th>c_slength_n</th>\n",
       "      <td>35.255169</td>\n",
       "      <td>33.625445</td>\n",
       "      <td>33.953178</td>\n",
       "    </tr>\n",
       "    <tr>\n",
       "      <th>c_totalidf_n</th>\n",
       "      <td>153.785934</td>\n",
       "      <td>146.655973</td>\n",
       "      <td>147.905129</td>\n",
       "    </tr>\n",
       "    <tr>\n",
       "      <th>d_distancetoroot_n</th>\n",
       "      <td>3.108984</td>\n",
       "      <td>3.221490</td>\n",
       "      <td>3.029155</td>\n",
       "    </tr>\n",
       "    <tr>\n",
       "      <th>d_headsdeps_n</th>\n",
       "      <td>4.305620</td>\n",
       "      <td>4.118852</td>\n",
       "      <td>4.146030</td>\n",
       "    </tr>\n",
       "    <tr>\n",
       "      <th>d_linear_head_distance_n</th>\n",
       "      <td>8.028029</td>\n",
       "      <td>7.616714</td>\n",
       "      <td>8.310288</td>\n",
       "    </tr>\n",
       "    <tr>\n",
       "      <th>d_targetdeps_n</th>\n",
       "      <td>2.175888</td>\n",
       "      <td>2.636671</td>\n",
       "      <td>2.597907</td>\n",
       "    </tr>\n",
       "    <tr>\n",
       "      <th>z_nlabels_n</th>\n",
       "      <td>8.364517</td>\n",
       "      <td>10.094440</td>\n",
       "      <td>8.497626</td>\n",
       "    </tr>\n",
       "    <tr>\n",
       "      <th>z_sensentropy_n</th>\n",
       "      <td>0.584350</td>\n",
       "      <td>0.686676</td>\n",
       "      <td>0.677078</td>\n",
       "    </tr>\n",
       "  </tbody>\n",
       "</table>\n",
       "</div>"
      ],
      "text/plain": [
       "y_Class_s                       HIGH         LOW         MID\n",
       "y_Ao_n                      0.841469    0.253745    0.477703\n",
       "a_headfreq_n                0.113074    0.118401    0.112615\n",
       "a_targetfreq_n              0.157447    0.165459    0.161176\n",
       "c_content_proportion_n      0.464465    0.468516    0.463182\n",
       "c_maxidf_n                 11.858033   11.678163   11.764648\n",
       "c_slength_n                35.255169   33.625445   33.953178\n",
       "c_totalidf_n              153.785934  146.655973  147.905129\n",
       "d_distancetoroot_n          3.108984    3.221490    3.029155\n",
       "d_headsdeps_n               4.305620    4.118852    4.146030\n",
       "d_linear_head_distance_n    8.028029    7.616714    8.310288\n",
       "d_targetdeps_n              2.175888    2.636671    2.597907\n",
       "z_nlabels_n                 8.364517   10.094440    8.497626\n",
       "z_sensentropy_n             0.584350    0.686676    0.677078"
      ]
     },
     "execution_count": 97,
     "metadata": {},
     "output_type": "execute_result"
    }
   ],
   "source": [
    "D[numeric_cols].groupby(D.y_Class_s).mean().T"
   ]
  },
  {
   "cell_type": "code",
   "execution_count": 122,
   "metadata": {
    "collapsed": false
   },
   "outputs": [
    {
     "data": {
      "text/plain": [
       "y_Ao_n                      1.000000\n",
       "a_headfreq_n               -0.021258\n",
       "a_targetfreq_n             -0.100254\n",
       "c_content_proportion_n     -0.008099\n",
       "c_maxidf_n                  0.027793\n",
       "c_slength_n                 0.028090\n",
       "c_totalidf_n                0.026804\n",
       "d_distancetoroot_n         -0.020797\n",
       "d_headsdeps_n               0.032104\n",
       "d_linear_head_distance_n    0.020005\n",
       "d_targetdeps_n             -0.093036\n",
       "z_nlabels_n                -0.209470\n",
       "z_sensentropy_n            -0.328873\n",
       "dtype: float64"
      ]
     },
     "execution_count": 122,
     "metadata": {},
     "output_type": "execute_result"
    }
   ],
   "source": [
    "D[numeric_cols].corrwith(D.y_Ao_n)"
   ]
  },
  {
   "cell_type": "code",
   "execution_count": 126,
   "metadata": {
    "collapsed": false
   },
   "outputs": [
    {
     "name": "stdout",
     "output_type": "stream",
     "text": [
      "<table border=\"1\" class=\"dataframe\">\n",
      "  <thead>\n",
      "    <tr style=\"text-align: right;\">\n",
      "      <th>y_Class_s</th>\n",
      "      <th>LOW</th>\n",
      "      <th>MID</th>\n",
      "      <th>HIGH</th>\n",
      "    </tr>\n",
      "  </thead>\n",
      "  <tbody>\n",
      "    <tr>\n",
      "      <th>y_Ao_n</th>\n",
      "      <td>0.253745</td>\n",
      "      <td>0.477703</td>\n",
      "      <td>0.841469</td>\n",
      "    </tr>\n",
      "    <tr>\n",
      "      <th>a_headfreq_n</th>\n",
      "      <td>0.118401</td>\n",
      "      <td>0.112615</td>\n",
      "      <td>0.113074</td>\n",
      "    </tr>\n",
      "    <tr>\n",
      "      <th>a_targetfreq_n</th>\n",
      "      <td>0.165459</td>\n",
      "      <td>0.161176</td>\n",
      "      <td>0.157447</td>\n",
      "    </tr>\n",
      "    <tr>\n",
      "      <th>c_content_proportion_n</th>\n",
      "      <td>0.468516</td>\n",
      "      <td>0.463182</td>\n",
      "      <td>0.464465</td>\n",
      "    </tr>\n",
      "    <tr>\n",
      "      <th>c_maxidf_n</th>\n",
      "      <td>11.678163</td>\n",
      "      <td>11.764648</td>\n",
      "      <td>11.858033</td>\n",
      "    </tr>\n",
      "    <tr>\n",
      "      <th>c_slength_n</th>\n",
      "      <td>33.625445</td>\n",
      "      <td>33.953178</td>\n",
      "      <td>35.255169</td>\n",
      "    </tr>\n",
      "    <tr>\n",
      "      <th>c_totalidf_n</th>\n",
      "      <td>146.655973</td>\n",
      "      <td>147.905129</td>\n",
      "      <td>153.785934</td>\n",
      "    </tr>\n",
      "    <tr>\n",
      "      <th>d_distancetoroot_n</th>\n",
      "      <td>3.221490</td>\n",
      "      <td>3.029155</td>\n",
      "      <td>3.108984</td>\n",
      "    </tr>\n",
      "    <tr>\n",
      "      <th>d_headsdeps_n</th>\n",
      "      <td>4.118852</td>\n",
      "      <td>4.146030</td>\n",
      "      <td>4.305620</td>\n",
      "    </tr>\n",
      "    <tr>\n",
      "      <th>d_linear_head_distance_n</th>\n",
      "      <td>7.616714</td>\n",
      "      <td>8.310288</td>\n",
      "      <td>8.028029</td>\n",
      "    </tr>\n",
      "    <tr>\n",
      "      <th>d_targetdeps_n</th>\n",
      "      <td>2.636671</td>\n",
      "      <td>2.597907</td>\n",
      "      <td>2.175888</td>\n",
      "    </tr>\n",
      "    <tr>\n",
      "      <th>z_nlabels_n</th>\n",
      "      <td>10.094440</td>\n",
      "      <td>8.497626</td>\n",
      "      <td>8.364517</td>\n",
      "    </tr>\n",
      "    <tr>\n",
      "      <th>z_sensentropy_n</th>\n",
      "      <td>0.686676</td>\n",
      "      <td>0.677078</td>\n",
      "      <td>0.584350</td>\n",
      "    </tr>\n",
      "  </tbody>\n",
      "</table>\n"
     ]
    }
   ],
   "source": [
    "print(D[numeric_cols].groupby(D.y_Class_s).mean().T[['LOW', 'MID', 'HIGH']].to_html())"
   ]
  },
  {
   "cell_type": "code",
   "execution_count": null,
   "metadata": {
    "collapsed": true
   },
   "outputs": [],
   "source": []
  }
 ],
 "metadata": {
  "kernelspec": {
   "display_name": "Python 3",
   "language": "python",
   "name": "python3"
  },
  "language_info": {
   "codemirror_mode": {
    "name": "ipython",
    "version": 3
   },
   "file_extension": ".py",
   "mimetype": "text/x-python",
   "name": "python",
   "nbconvert_exporter": "python",
   "pygments_lexer": "ipython3",
   "version": "3.4.3"
  }
 },
 "nbformat": 4,
 "nbformat_minor": 0
}
